{
 "cells": [
  {
   "cell_type": "markdown",
   "id": "46fe28e1-3bde-40bc-9b0d-c852511e90ea",
   "metadata": {},
   "source": [
    "## MAC0318 - Teoria de controle\n",
    "\n",
    "## Representação de estado\n",
    "\n",
    "Nesse tutorial revisamos alguns conceitos relacionados a sistemas referenciais e mudanças de coordenadas.\n",
    "\n",
    "O *estado* descreve matematicamente a configuração do robô em um determinado instante. Ele pode incluir informação sobre a localização do robô assim como fatores relativos ao ambiente que afetem o robô (por exemplo, a temperatura do ambiente, ou o valor de sensores). A escolha do estado depende da tarefa que queremos resolver, assim como do domínio de atuação.\n",
    "\n",
    "Idealmente, gostaríamos que o estado possuisse as seguintes propriedades:\n",
    "\n",
    "1. *Propriedade de Markov*: O estado futuro independente do passado dado o presente\n",
    "\n",
    "\n",
    "$$\n",
    "x_{t+1} = f(x_t, x_{t-1}, \\dots, x_0; u_t, \\dots, u_0) = f(x_t; u_t)\n",
    "$$\n",
    "\n",
    "\n",
    "2. *Suficência e eficiência estatística*: O estado é um estatística suficiente minimal, ou seja, contém todas e apenas informações relevantes para resolução da tarefa pretendida\n",
    "3. *Tratabilidade*: o estado permite calcular eficientemente o comportamento do robô\n",
    "4. *Generalibilidade*: o estado é robusto a pequenas mudanças no domínio e na tarefa"
   ]
  },
  {
   "cell_type": "markdown",
   "id": "c675fbf5-d323-4841-b981-c3766552a8b7",
   "metadata": {},
   "source": [
    "## Pose\n",
    "\n",
    "O exemplo mais comum de estado em robótica é a *pose* ou *postura* do robô.\n",
    "\n",
    "A *pose* contém a posição do robô no ambiente (relativa a um referencial) assim como sua orientação. Para um robô que atue apenas no solo, como é nosso caso nessa disciplina, ignorando eventuais diferenças de altitude do solo, podemos assumir que a pose é dada pelas coordenadas do centro de referencial local do robô $(x,y)$ e do ângulo $\\theta$ de rotação do referencial em relação a um referencial global fixo:\n",
    "\n",
    "$$\n",
    "q = \n",
    "\\begin{bmatrix}\n",
    "x & y & \\theta\n",
    "\\end{bmatrix}\n",
    "$$\n",
    "\n",
    "Outra forma de representar a pose é considerar a transformação linear homogênea em relação a uma posição inicial (em relação a algum referencial), formada por uma translação $t$ seguida por uma rotação $R$:\n",
    "\n",
    "$$\n",
    "T = \n",
    "\\begin{bmatrix}\n",
    "R & t \\\\\n",
    "0 & 1\n",
    "\\end{bmatrix}\n",
    "=\n",
    "\\begin{bmatrix}\n",
    "\\cos(\\theta) & -\\sin(\\theta) & x \\\\\n",
    "\\sin(\\theta) & \\cos(\\theta) & y \\\\\n",
    "0 & 0 & 1\n",
    "\\end{bmatrix}\n",
    "$$\n",
    "onde $R$ é a matriz de rotação\n",
    "$$\n",
    "R = \n",
    "\\begin{bmatrix}\n",
    "\\cos(\\theta) & -\\sin(\\theta) \\\\\n",
    "\\sin(\\theta) & \\cos(\\theta) \\\\\n",
    "\\end{bmatrix}\n",
    "$$\n",
    "e $t=\\begin{bmatrix}\n",
    "x &\n",
    "y \n",
    "\\end{bmatrix}^t$ é o vetor de translação representando o centro do referencial local do robô no referencial global.\n",
    "\n",
    "A matrix $T$ faz parte do chamado [grupo](https://en.wikipedia.org/wiki/Euclidean_group) (no sentido algébrico) especial euclideano de dimensão 2, denominado $SE(2)$, que representa as simetrias do espaço euclideano que preservam distância entre pontos e orientação, ou seja, rotação e translação.\n",
    "\n",
    "Uma propriedade importante da matriz de transformação $T$ é que\n",
    "$$\n",
    "T^{-1} = \n",
    "\\begin{bmatrix}\n",
    "R^T & -R^Tt \\\\\n",
    "0 & 1\n",
    "\\end{bmatrix} .\n",
    "$$"
   ]
  },
  {
   "cell_type": "code",
   "execution_count": 91,
   "id": "6401c2a8-05be-42e3-9d93-c9abb915feba",
   "metadata": {},
   "outputs": [
    {
     "name": "stdout",
     "output_type": "stream",
     "text": [
      "r = [3. 4.]\n",
      "R =\n",
      " [[ 0.87758256 -0.47942554]\n",
      " [ 0.47942554  0.87758256]]\n",
      "2 (2, 2)\n",
      "T =\n",
      " [[ 0.87758256 -0.47942554  3.        ]\n",
      " [ 0.47942554  0.87758256  4.        ]\n",
      " [ 0.          0.          1.        ]]\n",
      "Rt =\n",
      " [[ 0.87758256  0.47942554]\n",
      " [-0.47942554  0.87758256]]\n",
      "T^-1 = [[ 0.87758256  0.47942554 -4.55044984]\n",
      " [-0.47942554  0.87758256 -2.07205363]\n",
      " [ 0.          0.          1.        ]]\n",
      "[[1. 0. 0.]\n",
      " [0. 1. 0.]\n",
      " [0. 0. 1.]]\n"
     ]
    }
   ],
   "source": [
    "# Alguns comandos úteis em numpy\n",
    "import numpy as np\n",
    "# Criando um vetor\n",
    "r = np.array([ 3.0, 4.0 ])\n",
    "print('r =', r)\n",
    "# Criando uma matriz 2x2\n",
    "R = np.array([ \n",
    "                [np.cos(0.5), -np.sin(0.5)],\n",
    "                [np.sin(0.5),  np.cos(0.5)]\n",
    "             ])\n",
    "print('R =\\n', R)\n",
    "print(R.ndim, R.shape)\n",
    "# Compondo matriz de blocos\n",
    "T = np.block([\n",
    "                [R, r.reshape((2,1))], \n",
    "                [np.zeros((1, 2)), np.array([1])]\n",
    "              ])\n",
    "print('T =\\n', T)\n",
    "# Transposta de uma matriz\n",
    "Rt = R.T\n",
    "print('Rt =\\n', Rt)\n",
    "# Inversa de matriz em SE(2)\n",
    "Tinv = np.block([\n",
    "                 [Rt, -Rt @ r.reshape((2,1))],\n",
    "                 [np.zeros((1,2)), np.array([1])]\n",
    "                ])\n",
    "print('T^-1 =', Tinv)\n",
    "# Multiplicação de matrizes\n",
    "I = T @ Tinv # multiplicação de matrizes\n",
    "print( I )"
   ]
  },
  {
   "cell_type": "markdown",
   "id": "ea017c2c-1d46-4f6f-b47b-1322af0034d9",
   "metadata": {},
   "source": [
    "## Exercício 1\n",
    "\n",
    "<figure>\n",
    "  <div style=\"text-align:center;\">\n",
    "  <img src=\"img/pose_exercise.png\">\n",
    "  </div>\n",
    "</figure>\n",
    "\n",
    "A figura acima ilustra a posição do robô (ponto laranja) e sua orientação ($\\theta$), dada pelo ângulo entre o eixo $x$ no sentido antihorário.\n",
    "\n",
    "1. Escreva o vetor $q \\in \\mathbb{R}^3$ representando a pose do robô no referencial global $W$"
   ]
  },
  {
   "cell_type": "code",
   "execution_count": 1,
   "id": "5904500a-6084-4364-b9e6-5b7441669ac2",
   "metadata": {},
   "outputs": [
    {
     "name": "stdout",
     "output_type": "stream",
     "text": [
      "[0. 0. 0.]\n"
     ]
    }
   ],
   "source": [
    "theta = np.deg2rad(0) # converte de graus para radianos = (np.pi * 60) / 180.\n",
    "\n",
    "q_W = np.array([0, 0, theta]) # complete com solução\n",
    "\n",
    "print(q_W)"
   ]
  },
  {
   "cell_type": "markdown",
   "id": "f94633ae-2cd9-4987-9700-daa21ba297b9",
   "metadata": {},
   "source": [
    "2. Escreva o vetor $q \\in \\mathbb{R}^3$ representando a pose do robô no referencial local (do robô) $R$"
   ]
  },
  {
   "cell_type": "code",
   "execution_count": 2,
   "id": "0975ae13-d6c2-4b14-a582-7b882cd1d5d1",
   "metadata": {},
   "outputs": [
    {
     "name": "stdout",
     "output_type": "stream",
     "text": [
      "[0 0 0]\n"
     ]
    }
   ],
   "source": [
    "q_R = np.array([0, 0, 0]) # complete com solução\n",
    "\n",
    "print(q_R)"
   ]
  },
  {
   "cell_type": "markdown",
   "id": "c524a291-1a53-4abd-8ec2-8a6a92e0b596",
   "metadata": {},
   "source": [
    "3. Escreva a matriz $T \\in SE(2) \\subseteq \\mathbb{R}^{3 \\times 3}$ representando a pose do robô relativa ao referencial global"
   ]
  },
  {
   "cell_type": "code",
   "execution_count": 10,
   "id": "6149cb48-46b8-476e-b9ee-057057af7895",
   "metadata": {},
   "outputs": [
    {
     "name": "stdout",
     "output_type": "stream",
     "text": [
      "[[ 0.5       -0.8660254  2.       ]\n",
      " [ 0.8660254  0.5        3.       ]\n",
      " [ 0.         0.         1.       ]]\n"
     ]
    }
   ],
   "source": [
    "T = np.array([\n",
    "    [np.cos(theta), -np.sin(theta), q_g[0]],\n",
    "    [np.sin(theta),  np.cos(theta), q_g[1]],\n",
    "    [            0,              0, 1]\n",
    "])\n",
    "\n",
    "print(T) # Esperado: [[ 0.5       -0.8660254  2.       ]\n",
    "         #            [ 0.8660254  0.5        3.       ]\n",
    "         #            [ 0.         0.         1.       ]]"
   ]
  },
  {
   "cell_type": "markdown",
   "id": "d58d3bc9-fd12-45c5-bac3-364d7a22dcc2",
   "metadata": {},
   "source": [
    "# Mudança de referencial\n",
    "\n",
    "A representação como matriz em $SE(n)$ é conveniente pois permite facilmente que a descrição da pose em um referencial seja reescrita com relação a outro referencial. \n",
    "\n",
    "Por exemplo, se sabemos a pose $T_A^O$ no referencial de origem $O$ e sabemos a pose $T_B^A$ no referencial $A$, obtemos a pose $T_B^O$ no referencial de origem como\n",
    "$$\n",
    "T_B^O = T_A^O T_B^A .\n",
    "$$\n",
    "\n",
    "Outra transformação útil entre referenciais é\n",
    "$$\n",
    "T_A^B = (T_B^A)^{-1} .\n",
    "$$\n"
   ]
  },
  {
   "cell_type": "markdown",
   "id": "46072123-b2e0-464f-a906-582c1e408990",
   "metadata": {},
   "source": [
    "## Exercício 2\n",
    "\n",
    "Na figura abaixo, o ponto laranja representa o robô (uma pose) e o ponto azul representa o obstáculo (um ponto). As medidas dos eixos são em metros.\n",
    "\n",
    "<figure>\n",
    "  <div style=\"text-align:center;\">\n",
    "  <img src=\"img/moving_frame_exercise_1.png\">\n",
    "  </div>\n",
    "</figure>\n",
    "\n",
    "Sabendo que a pose do robô no referencial global é dada por\n",
    "$$\n",
    "q_r^W = \\begin{bmatrix} 2 & 0.4 & 110 \\end{bmatrix} \n",
    "$$\n",
    "e que a distância e o ângulo entre o robô e obstáculo são de $0{,}3$m e $50$ graus, respectivamente, determine a posição do obstáculo no referencial global."
   ]
  },
  {
   "cell_type": "code",
   "execution_count": null,
   "id": "42cde65a-e5bb-4e92-b535-ff167a09d1a3",
   "metadata": {},
   "outputs": [],
   "source": [
    "# Escreva sua solução\n",
    "\n",
    "\n",
    "print( T_O_W ) "
   ]
  },
  {
   "cell_type": "code",
   "execution_count": 10,
   "id": "d99c90bf-1e32-4088-a908-f8563fff2178",
   "metadata": {},
   "outputs": [
    {
     "name": "stdout",
     "output_type": "stream",
     "text": [
      "[0. 0.]\n"
     ]
    }
   ],
   "source": [
    "# Complete com sua solução (posição do obstáculo no referencial global)\n",
    "p_o_W = np.array([T_O_W[0,2], T_O_W[1,2]])    \n",
    "print(p_o_W) # resultado esperado [1.71809221, 0.50260604, 160.]"
   ]
  },
  {
   "cell_type": "markdown",
   "id": "9b5bb500-1a32-4705-8a68-9c8dcc2a42a0",
   "metadata": {},
   "source": [
    "## Exercício 3\n",
    "\n",
    "Na figura abaixo, a pose do robô no referencial global é  $q^W = \\begin{bmatrix} 3.5 & -1.2 & 45 \\end{bmatrix}$.\n",
    "\n",
    "<figure>\n",
    "  <div style=\"text-align:center;\">\n",
    "  <img src=\"img/moving_frame_exercise_2.png\">\n",
    "  </div>\n",
    "</figure>\n",
    "\n",
    "Determine a posição do obstáculo (ponto azul) na figura abaixo no referencial local do robô."
   ]
  },
  {
   "cell_type": "code",
   "execution_count": null,
   "id": "415e1c8c-1a95-4315-aa42-b4c7a1f720f1",
   "metadata": {},
   "outputs": [],
   "source": [
    "p_R_W = np.array([3.5, -1.2]) # posição do robô no referencial global\n",
    "theta_R_W = np.deg2rad(45)    # ângulo do robô no referencial global\n",
    "\n",
    "p_o_W = np.array([4.0, -1.0]) # posição do obstáculo no referencial global\n",
    "\n",
    "# Escreva sua solução\n",
    "\n",
    "\n",
    "p_o_R = np.array([ T_o_R[0,2], T_o_R[1,2] ])\n",
    "\n",
    "print(p_o_R) # resultado esperado [ 0.49497475 -0.21213203]"
   ]
  },
  {
   "cell_type": "code",
   "execution_count": 14,
   "id": "01a0d25a-8e42-47f0-be6e-081c8daf68fb",
   "metadata": {},
   "outputs": [
    {
     "data": {
      "text/plain": [
       "array([ 0.49497475, -0.21213203,  1.        ])"
      ]
     },
     "execution_count": 14,
     "metadata": {},
     "output_type": "execute_result"
    }
   ],
   "source": [
    "# Solução alternativa\n",
    "\n",
    "T_W_R @ np.block([p_o_W, 1])"
   ]
  }
 ],
 "metadata": {
  "kernelspec": {
   "display_name": "Python 3",
   "language": "python",
   "name": "python3"
  },
  "language_info": {
   "codemirror_mode": {
    "name": "ipython",
    "version": 3
   },
   "file_extension": ".py",
   "mimetype": "text/x-python",
   "name": "python",
   "nbconvert_exporter": "python",
   "pygments_lexer": "ipython3",
   "version": "3.9.6"
  }
 },
 "nbformat": 4,
 "nbformat_minor": 5
}

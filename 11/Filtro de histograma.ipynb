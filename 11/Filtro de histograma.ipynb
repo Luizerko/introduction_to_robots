{
 "cells": [
  {
   "cell_type": "markdown",
   "id": "1807675c-7aed-432c-bae6-e328595b94f4",
   "metadata": {},
   "source": [
    "# MAC0318 Introdução à Programação de Robôs Móveis\n",
    "\n",
    "Vamos agora assumir que nosso **domínio é a reta real**, ou seja, que o agente navega em um ambiente e seu estado é representado pela variável aleatória $X_t$ cujo  suporte é $\\mathbb{R}$. Para esse caso, nossa crença é uma **função de densidade** e portanto não podemos mais representá-la como um vetor de tamanho finito. Para tanto, vamos adotar um filtro de histograma, que retringe o suporte da função de crença a um conjunto finito de **centróides**."
   ]
  },
  {
   "cell_type": "code",
   "execution_count": 1,
   "id": "494b70e7-9d00-4e32-9b6d-ebdcdbe53bec",
   "metadata": {},
   "outputs": [],
   "source": [
    "# Vamos carregar as bibliotecas necessárias\n",
    "\n",
    "%matplotlib inline\n",
    "\n",
    "import numpy as np\n",
    "import matplotlib.pyplot as plt\n",
    "from scipy.stats import norm"
   ]
  },
  {
   "cell_type": "markdown",
   "id": "90ffef35-8416-4b9d-b2bf-3e508257dd6b",
   "metadata": {},
   "source": [
    "## Filtro de histograma\n",
    "\n",
    "O filtro de histograma representa a crença como uma somátoria de [funções de Dirac](https://en.wikipedia.org/wiki/Dirac_delta_function) centradas em pontos $x_1,\\ldots,x_N$ chamados de centróides:\n",
    "$$\n",
    " \\text{bel}_t(x) = \\sum_{c=1}^N w_{c,t} \\delta(x - x_c) .\n",
    "$$\n",
    "Para que a função acima seja uma densidade devemos satisfazer\n",
    "$$\n",
    " \\int_{-\\infty}^{\\infty} \\text{bel}_t(x) dx = 1 \\Rightarrow \\sum_c w_{c,t} \\int_{-\\infty}^{\\infty} \\delta(x-x_c) dx = \\sum_c w_{c,t} = 1 .\n",
    "$$\n",
    "e\n",
    "$$\n",
    " \\text{bel}_t(x) \\geq 0 \\Rightarrow w_{c,t} \\geq 0 .\n",
    "$$\n",
    "Na derivação acima usamos a propriedade das funções de Dirac:\n",
    "$$\n",
    " \\int_{-\\infty}^{\\infty} \\delta(x-x_c) dx = 1 .\n",
    "$$"
   ]
  },
  {
   "cell_type": "markdown",
   "id": "1003387e-48b9-4279-8952-b234a33334e0",
   "metadata": {},
   "source": [
    "Definimos as posições dos centróides especificando um intervalo $[x_\\min, x_\\max]$ e uma quantidade de pontos $N$. Note que nossa crença sempre atribuí probabilidade zero para qualquer estado fora desse intervalo, portanto é preciso escolher o intervalo de maneira adequada."
   ]
  },
  {
   "cell_type": "code",
   "execution_count": 2,
   "id": "df8c138f-7174-485b-9dcc-b790c03ab5b6",
   "metadata": {},
   "outputs": [],
   "source": [
    "xmin, xmax = 0, 10\n",
    "N = 10\n",
    "centroides = np.linspace(xmin,xmax,N)"
   ]
  },
  {
   "cell_type": "markdown",
   "id": "9f03975f-3e40-4e54-80dc-c738792d01a9",
   "metadata": {},
   "source": [
    "Vamos escrever uma função para representar visualmente a função de crença."
   ]
  },
  {
   "cell_type": "code",
   "execution_count": 3,
   "id": "5b4420cb-33d0-45a6-af25-d5be6aa8cfcc",
   "metadata": {},
   "outputs": [],
   "source": [
    "def show_belief(b):\n",
    "    b = b.flatten()\n",
    "    states = plt.bar(centroides, b)\n",
    "    plt.xticks(centroides)\n",
    "    plt.ylim([0, 1])\n",
    "    plt.ylabel('bel(X)')\n",
    "    plt.xlabel('X')\n",
    "    plt.title('Crença')"
   ]
  },
  {
   "cell_type": "markdown",
   "id": "10f684b2-31a8-416a-b5e4-cf92c257b2be",
   "metadata": {},
   "source": [
    "Vamos supor uma crença uniforme (máxima ignorância). Note que a largura das barras são apenas para visualização; a função de crença define uma densidade não nula apenas nos centróides. A função de crença é representada pelo vetor de pesos $w_1, \\ldots, w_N$."
   ]
  },
  {
   "cell_type": "code",
   "execution_count": 4,
   "id": "9144afa2-6849-4d76-8531-f5da3b58b647",
   "metadata": {},
   "outputs": [
    {
     "data": {
      "image/png": "[encoded data removed]",
      "text/plain": [
       "<Figure size 432x288 with 1 Axes>"
      ]
     },
     "metadata": {
      "needs_background": "light"
     },
     "output_type": "display_data"
    }
   ],
   "source": [
    "bel = (1/N)*np.ones(N)\n",
    "\n",
    "show_belief(bel)"
   ]
  },
  {
   "cell_type": "code",
   "execution_count": 5,
   "id": "a2ea5314-a784-4e45-b44d-17dda64917f1",
   "metadata": {},
   "outputs": [
    {
     "data": {
      "text/plain": [
       "1.0"
      ]
     },
     "execution_count": 5,
     "metadata": {},
     "output_type": "execute_result"
    }
   ],
   "source": [
    "# Teste de consistência\n",
    "\n",
    "bel.sum()"
   ]
  },
  {
   "cell_type": "markdown",
   "id": "31a79bc5-e750-4bf8-9498-cd9855bb0662",
   "metadata": {},
   "source": [
    "### Modelo de sensor\n",
    "\n",
    "Vamos também supor que dispomos de um **sensor imperfeito** que nos fornece a posição do robô com alguma precisão. Em particular, vamos assumir que o erro do sensor é modelado por uma variável gaussiana com média 0 e variância $\\sigma^2$:\n",
    "$$\n",
    "    p(y|X_t=x) = \\mathcal{N}(x, \\sigma^2) .\n",
    "$$\n",
    "\n",
    "Note que agora tanto a variável de estado quanto a variável de observação são contínuas, e portanto, suas variáveis aleatórias possuem funções de densidades associadas (ao invés de distribuições de massa de probabilidade)."
   ]
  },
  {
   "cell_type": "code",
   "execution_count": 6,
   "id": "5bbcf928-3ce1-414c-95e1-eaba2d5d88d0",
   "metadata": {},
   "outputs": [],
   "source": [
    "sigma2 = 1.5\n",
    "\n",
    "def sensor(y, x): \n",
    "    ''' Return p(y|X=x). '''\n",
    "    return norm.pdf(y, loc=x, scale=np.sqrt(sigma2))"
   ]
  },
  {
   "cell_type": "markdown",
   "id": "568daa58-0cd6-44fe-ae0b-52807331f3e9",
   "metadata": {},
   "source": [
    "Por exemplo, quando estamos em $X_t = 2$, nosso sensor retorna valores de acordo com a função de densidade abaixo"
   ]
  },
  {
   "cell_type": "code",
   "execution_count": 7,
   "id": "62827ca3-991b-4752-998e-e02b2ead8f56",
   "metadata": {},
   "outputs": [
    {
     "data": {
      "image/png": "[encoded data removed]",
      "text/plain": [
       "<Figure size 432x288 with 1 Axes>"
      ]
     },
     "metadata": {
      "needs_background": "light"
     },
     "output_type": "display_data"
    }
   ],
   "source": [
    "yspace = np.linspace(-1.5, 5.5, 100)\n",
    "plt.plot(yspace, [sensor(y,2) for y in yspace], 'r-', lw=5, alpha=0.6);\n",
    "plt.ylabel('p(y|X=2)');\n",
    "plt.xlabel('y');\n",
    "plt.title('Modelo do sensor');"
   ]
  },
  {
   "cell_type": "markdown",
   "id": "f960917d-3908-4078-a058-ded189042caf",
   "metadata": {},
   "source": [
    "### Correção\n",
    "\n",
    "A atualização da crença para uma observação $Y_t=y$ é dada por:\n",
    "\n",
    "$$\n",
    "\\begin{align}\n",
    "    \\text{bel}_{t+1}(x) &= p(x|y) \\\\\n",
    "    & = \\frac{p(y | x)\\text{bel}_t(x)}{p(y)} \\\\\n",
    "    & = \\eta p(y|x) \\sum_{c=1}^N w_{c,t}  \\delta(x-x_c) ,\n",
    "\\end{align}\n",
    "$$\n",
    "onde $\\eta$ é uma constante de normalização. \n",
    "Pela definição da função de Dirac, a equação acima é nula para qualquer estado diferente de um centróide, $x \\neq x_c$. E para um centróide $x=x_c$, a equação se torna\n",
    "$$\n",
    "\\text{bel}_{t}(x_c) = \\eta p(y|x_c) w_{c,t} .\n",
    "$$\n",
    "A nova crença portanto tem a mesma forma anterior:\n",
    "$$\n",
    "    \\text{bel}_{t+1}(x) = \\sum_{c=1}^N w_{c,t+1}  \\delta(x-x_c) ,\n",
    "$$\n",
    "com os novos pesos calculados por\n",
    "$$\n",
    "w_{c,t+1} = \\eta p(y|x_c) w_{c,t}\n",
    "$$\n",
    "e\n",
    "$$\n",
    " \\eta = \\sum_{c=1}^N  p(y|x) w_{c,t} .\n",
    "$$\n",
    "Note que do ponto de vista computacional, a atualização é similar ao filtro bayesiano discreto: computamos o produto ponto-a-ponto da crença antiga pelo modelo de sensor em cada centróide e renormalizamos o vetor resultante. "
   ]
  },
  {
   "cell_type": "code",
   "execution_count": 8,
   "id": "f614e9bb-c9f8-4e81-a3fb-ea800bdb1afc",
   "metadata": {},
   "outputs": [],
   "source": [
    "def correct(b, y):\n",
    "    ''' Update belief vector b given observation y -- Calls sensor model sensor(y) = p(Y=y|x).  '''\n",
    "    tilde_bel = np.array([sensor(y,x) for x in centroides]).T # p(Y=y|X=x)\n",
    "    tilde_bel *= b # bel(X) * p(y|X)\n",
    "    # normaliza e atualiza vetor de crença\n",
    "    b[:] = tilde_bel/np.sum(tilde_bel) "
   ]
  },
  {
   "cell_type": "markdown",
   "id": "ec2a2fe7-7c2e-4b15-837d-eb69a5c8d9e9",
   "metadata": {},
   "source": [
    "Vamos testar o algoritmo supondo uma observação de $y=0.9$"
   ]
  },
  {
   "cell_type": "code",
   "execution_count": 9,
   "id": "f7f0d3c9-dd7c-4de0-8428-fd5e218da3d5",
   "metadata": {},
   "outputs": [
    {
     "data": {
      "image/png": "[encoded data removed]",
      "text/plain": [
       "<Figure size 432x288 with 1 Axes>"
      ]
     },
     "metadata": {
      "needs_background": "light"
     },
     "output_type": "display_data"
    }
   ],
   "source": [
    "# observa Y=0.9\n",
    "\n",
    "correct(bel, 0.9)\n",
    "\n",
    "show_belief(bel) "
   ]
  },
  {
   "cell_type": "markdown",
   "id": "1f3d38d3-beca-4250-a262-ef618b15542b",
   "metadata": {},
   "source": [
    "Note como a nova crença se concentra ao redor do valor medido, reflentindo uma redução da incerteza (entropia) da estimação de estado."
   ]
  },
  {
   "cell_type": "markdown",
   "id": "194e9af8-157f-4bcf-98a2-c14d19265f5a",
   "metadata": {
    "tags": []
   },
   "source": [
    "### Modelo de transição\n",
    "\n",
    "Para o modelo de transição, vamos assumir que o robô executa uma ação de se mover $u$ unidades em um intervalo $[-1,1]$, e que o robô se movimenta de acordo com o seguinte modelo:\n",
    "\n",
    "$$\n",
    "  x_{t+1} = x_t + u + k*u*\\epsilon\n",
    "$$\n",
    "\n",
    "com $\\epsilon$ sendo uma variável gaussiana com média 0 e variância 1. A constante $k$ regular a variância da imprecisão do movimento. A função de densidade da transição dessa forma é dada por\n",
    "$$\n",
    "p(x_{t+1} | x_t, u) = \\mathcal{N}(x_t + u, k^2 u^2) .\n",
    "$$"
   ]
  },
  {
   "cell_type": "code",
   "execution_count": 10,
   "id": "e55495ce-2fa3-4be1-b46b-0bfe73dea1ec",
   "metadata": {},
   "outputs": [],
   "source": [
    "k = 1.0 # regula variância no movimento"
   ]
  },
  {
   "cell_type": "markdown",
   "id": "91683e54-9847-4b7b-acfd-85f65d2db0e4",
   "metadata": {},
   "source": [
    "### Predição\n",
    "\n",
    "A etapa de atualização da crença para uma dada ação $u$ é obtida por:\n",
    "$$\n",
    "\\begin{align}\n",
    "  \\text{bel}_{t+1}(x') &= \\int_{-\\infty}^{\\infty} p(x' | X_t=x, u) \\text{bel}_t(x) dx \\\\\n",
    "  & = \\int_{-\\infty}^{\\infty} p(x' | X_t=x, u) \\sum_{c} w_{c,t} \\delta(x-x_c) dx \\\\\n",
    "  & =   \\sum_{c} w_{c,t} \\int_{-\\infty}^{\\infty} p(x' | X_t=x, u) \\delta(x-x_c) dx \\\\\n",
    "  & =  \\sum_{c} w_{c,t} p(x' | X_t=x_c, u).\n",
    "\\end{align}\n",
    "$$\n",
    "Note que a equação acima atribui densidade a qualquer ponto $x'$ do espaço, violando nossa hipótese inicial (ou seja, a forma funcional do filtro não é fechada sobre a operação de predição acima). Para recuperarmos a propriedade inicial, vamos impor que\n",
    "$$\n",
    "\\text{bel}_{t+1}(x') = \\sum_{c=1}^N w_{c,t+1} \\delta(x-x_c) .\n",
    "$$\n",
    "Igualando as duas equações temos que:\n",
    "$$\n",
    "w_{c',t+1} = \\sum_{c=1}^N w_{c,t} p(x_{c'} | X_t=x_c, u) .\n",
    "$$\n",
    "Ou seja, cada novo peso é a convolução da crença anterior e da função de transição. Note que a função de transição dentro da soma acima é calculada apenas em centróides. Dessa forma, podemos representá-la por uma matriz $T$ de tamanho $N$-por-$N$ tal que $T(x_i,x_j) = p(x_i|x_j,u)$. Para garantirmos que os novos pesos $w_{c'}$ somem um, é suficiente que as colunas de $T$ somem um. Dessa forma, obtemos a mesma representação do filtro bayesiano discreto e computamos a nova crença $w_{\\cdot,t+1}$ (novos pesos) como o produto matricial da matriz de transição $T$ e a crença antiga (pesos antigos) $w_{\\cdot, t}$. A única diferença aqui, é que precisamos construir a matriz a partir do valor $u$, dado que $u$ é contínuo.\n",
    "\n",
    "Tal similaridade com o filtro bayesiano discreto não é acidental. De fato, outra maneira de derivar o filtro de histograma é considerar uma discretização do espaço de estados em células nas quais a densidade é constante é possui valor proporcional ao da densidade no centróide. Nesse caso, os pesos $w_c$ são interpretados como a probabilidade do estado pertencer à região $c$, e as integrais são substituídas por somas como no filtro bayesiano discreto."
   ]
  },
  {
   "cell_type": "code",
   "execution_count": 11,
   "id": "2a833c97-ac55-4f75-bfeb-1565b3486962",
   "metadata": {},
   "outputs": [],
   "source": [
    "T = np.zeros((N,N)) # vamos criar uma matriz global para poupar recursos\n",
    "\n",
    "def compute_transition_matrix(u):\n",
    "    ''' Update transition matrix representing T[i,j] = p(X[t+1] = xi | X[t] = xj, U = u). '''\n",
    "    for j in range(N):\n",
    "        T[:,j] = norm.pdf(centroides, loc=centroides[j]+u, scale=k*u)\n",
    "        T[:,j] /= T[:,j].sum()"
   ]
  },
  {
   "cell_type": "code",
   "execution_count": 12,
   "id": "19dc57e4-74a1-49bb-8b50-0deeed4e32d3",
   "metadata": {},
   "outputs": [],
   "source": [
    "def predict(b, u):\n",
    "    ''' Update belief given action u. '''\n",
    "    # First we update the transition matrix with the given control value\n",
    "    compute_transition_matrix(u)\n",
    "    # Now we update the belief weights\n",
    "    b[:] = T @ b"
   ]
  },
  {
   "cell_type": "markdown",
   "id": "01ca0512-a82d-4ba3-8f3e-b6713aa74750",
   "metadata": {},
   "source": [
    "Vamos testar para uma ação $u=2$"
   ]
  },
  {
   "cell_type": "code",
   "execution_count": 13,
   "id": "bfa08d34-8d15-446f-a54f-7f1de19ff322",
   "metadata": {},
   "outputs": [
    {
     "data": {
      "image/png": "[encoded data removed]",
      "text/plain": [
       "<Figure size 432x288 with 1 Axes>"
      ]
     },
     "metadata": {
      "needs_background": "light"
     },
     "output_type": "display_data"
    }
   ],
   "source": [
    "u = 2\n",
    "\n",
    "predict(bel, u)\n",
    "\n",
    "show_belief(bel)"
   ]
  },
  {
   "cell_type": "code",
   "execution_count": 14,
   "id": "3508568a-978b-47f5-a9cc-ec5b4550f8f7",
   "metadata": {},
   "outputs": [
    {
     "data": {
      "text/plain": [
       "1.0000000000000002"
      ]
     },
     "execution_count": 14,
     "metadata": {},
     "output_type": "execute_result"
    }
   ],
   "source": [
    "# Consistência\n",
    "\n",
    "bel.sum()"
   ]
  },
  {
   "cell_type": "markdown",
   "id": "e99c4174-955c-490f-959f-2d623560749c",
   "metadata": {},
   "source": [
    "Note que a crença sobre o estado se desloca 2 unidades para a direita e se \"dilue\", refeltindo um aumentando na incerteza (entropia) da estimação de estado. Se dermos um passo menor, o aumento na incerteza é menor, como especificado pelo modelo de transição."
   ]
  },
  {
   "cell_type": "code",
   "execution_count": 15,
   "id": "ed79fbbe-2050-488c-96fc-4a18a5ddb59e",
   "metadata": {},
   "outputs": [
    {
     "data": {
      "image/png": "[encoded data removed]",
      "text/plain": [
       "<Figure size 432x288 with 1 Axes>"
      ]
     },
     "metadata": {
      "needs_background": "light"
     },
     "output_type": "display_data"
    }
   ],
   "source": [
    "u = 1\n",
    "\n",
    "predict(bel, u)\n",
    "\n",
    "show_belief(bel)"
   ]
  },
  {
   "cell_type": "code",
   "execution_count": 16,
   "id": "8a8f8865-78eb-46fe-9f18-14a864478744",
   "metadata": {},
   "outputs": [
    {
     "data": {
      "text/plain": [
       "1.0000000000000002"
      ]
     },
     "execution_count": 16,
     "metadata": {},
     "output_type": "execute_result"
    }
   ],
   "source": [
    "bel.sum()"
   ]
  },
  {
   "cell_type": "markdown",
   "id": "0b266c01-9eb6-452f-8bfb-0b127dfa2d47",
   "metadata": {},
   "source": [
    "Agora, se observamos $Y=3$, nossa incerteza sobre o estado diminui:"
   ]
  },
  {
   "cell_type": "code",
   "execution_count": 17,
   "id": "531629d6-3694-4d49-a446-d9aca556716f",
   "metadata": {},
   "outputs": [
    {
     "data": {
      "image/png": "[encoded data removed]",
      "text/plain": [
       "<Figure size 432x288 with 1 Axes>"
      ]
     },
     "metadata": {
      "needs_background": "light"
     },
     "output_type": "display_data"
    }
   ],
   "source": [
    "# observa Y=3\n",
    "\n",
    "correct(bel, 3.0)\n",
    "\n",
    "show_belief(bel) "
   ]
  },
  {
   "cell_type": "markdown",
   "id": "50d9297d-14b4-410a-83eb-6904baeb00c5",
   "metadata": {},
   "source": [
    "Para repassarmos a estimação de estado para um controlador, precisamos produzir um valor representativo ou estatística da distribuição. Novamente, vamos ver as duas formas mais comuns: moda e média."
   ]
  },
  {
   "cell_type": "code",
   "execution_count": 18,
   "id": "201ce7eb-44b4-474a-8597-294ebdd53a0f",
   "metadata": {},
   "outputs": [],
   "source": [
    "def get_mode(b):\n",
    "    ''' Extract most probable belief state. '''\n",
    "    i = np.argmax(b) # distribution mode\n",
    "    return centroides[i]\n",
    "\n",
    "def get_mean(b):\n",
    "    ''' Extract mean belief state value. '''\n",
    "    return (centroides*b).sum()"
   ]
  },
  {
   "cell_type": "code",
   "execution_count": 19,
   "id": "ca03d2df-6a79-4282-9f78-07637542eba9",
   "metadata": {},
   "outputs": [
    {
     "name": "stdout",
     "output_type": "stream",
     "text": [
      "Mode state: 3.3333333333333335\n",
      "Mean state: 3.2331176865423212\n"
     ]
    }
   ],
   "source": [
    "x = get_mode(bel)\n",
    "print('Mode state:', x)\n",
    "x = get_mean(bel)\n",
    "print('Mean state:', x)"
   ]
  },
  {
   "cell_type": "markdown",
   "id": "0465911a-3518-4811-870c-8595103eeb0b",
   "metadata": {},
   "source": [
    "## 💡Sua vez\n",
    "\n",
    "Nossa derivação do filtro de histograma em duas etapas, correção e predição, é desnecessária e ineficiente. Na prática, atualizamos a crença em cada ciclo de atualização do robô, considerando a distância percorrida (velocidade vezes tempo decorrido) e obtendo uma observação.\n",
    "\n",
    "Escreva a função `update` condensando as duas etapas em uma só. Note que só precisamos normalizar os pesos ao final. Use sua função para simular um robô tomando ações aleatórias $u \\in [-1,1]$ e observações uniformes $y \\in [x-1, x+1]$."
   ]
  },
  {
   "cell_type": "code",
   "execution_count": 20,
   "id": "4c087459-dc6b-417c-88e2-7b2eec014bcc",
   "metadata": {},
   "outputs": [],
   "source": [
    "def update(b, y, u):\n",
    "    ''' Updates belief weights b with observation y and action u. '''\n",
    "    # TODO"
   ]
  },
  {
   "cell_type": "code",
   "execution_count": 22,
   "id": "100306ea-e4c8-49cc-86f3-5699f0fef097",
   "metadata": {},
   "outputs": [],
   "source": [
    "x = 3 # estado inicial -- atualize estado com valor \"verdadeiro\" para produzir observação\n",
    "\n",
    "u = 2*np.random.random()-1 # Para gerar valor aleatório em [-1,1]\n",
    "y = x + 2*np.random.random()-1"
   ]
  },
  {
   "cell_type": "code",
   "execution_count": 23,
   "id": "68ac699b-6dd0-44e4-a01d-9e0c6d20cecc",
   "metadata": {},
   "outputs": [
    {
     "data": {
      "text/plain": [
       "(3, 0.36483341523251767, 2.0396251515188415)"
      ]
     },
     "execution_count": 23,
     "metadata": {},
     "output_type": "execute_result"
    }
   ],
   "source": [
    "x, u, y"
   ]
  },
  {
   "cell_type": "code",
   "execution_count": null,
   "id": "cec36759-9005-40d8-bdc9-159fdc956ebf",
   "metadata": {},
   "outputs": [],
   "source": []
  }
 ],
 "metadata": {
  "kernelspec": {
   "display_name": "Python 3 (ipykernel)",
   "language": "python",
   "name": "python3"
  },
  "language_info": {
   "codemirror_mode": {
    "name": "ipython",
    "version": 3
   },
   "file_extension": ".py",
   "mimetype": "text/x-python",
   "name": "python",
   "nbconvert_exporter": "python",
   "pygments_lexer": "ipython3",
   "version": "3.8.10"
  }
 },
 "nbformat": 4,
 "nbformat_minor": 5
}

{
 "cells": [
  {
   "cell_type": "markdown",
   "id": "81014140-e3d4-4297-9244-86a313e151b9",
   "metadata": {},
   "source": [
    "# MAC0318 Introdução à Programação de Robôs Móveis\n",
    "\n",
    "## Planejamento de rotas\n",
    "\n",
    "Nessa atividade, vamos usar técnicas de busca heurística em grafo para resolver o problema de encontra uma rota ótima. Um problema de planejamento é definido matematicamente por:\n",
    "- Um conjunto de estados $S$\n",
    "- Um estado inicial $s_0 \\in S$\n",
    "- Um estado meta $s_m \\in S$\n",
    "- Um conjunto de ações $A$\n",
    "- Uma função $A: S \\rightarrow 2^A$, que associa a cada estado um conjunto de ações aplicáveis $A(s)$ em um estado $s$\n",
    "- Uma função de transição $T: S \\times A \\rightarrow S$, que representa a transição de estado $T(s,a)$ causada por uma ação $a$ a partir de um estado $s$\n",
    "- Uma função de custo $C: S \\times A \\rightarrow \\mathbb{R}$, que associa um custo a uma transição.\n",
    "\n",
    "Note que o custo pode ser negativo, de fato representando uma recompensa. O objetivo do problema é encontrar uma sequência de ações aplicáveis $a_1, a_2, \\ldots, a_H$ tal que levem do estado inicial ao estado meta como mínimo custo. A sequência de ações produz uma trajetória\n",
    "$$\n",
    "  s_1 = T(s_0, a_1), \\, s_2 = T(s_1, a_2), \\, \\ldots, \\, s_H = T(s_{H-1}, a_H) ,\n",
    "$$\n",
    "para a qual $a_t \\in A(s_{t-1})$ para todo $t=1,\\ldots,H$. Por definição, uma solução para o problema requer que $H$ seja finito, que $s_H = s_m$ e que\n",
    "$$\n",
    "  C(s_0, a_1) + C(s_1, a_2) + \\dotsb + C(s_{H-1}, a_H)\n",
    "$$\n",
    "seja minímo sobre todas as sequências de ações aplicáveis que levem ao estado meta.\n",
    "\n",
    "Equivalentemente, o problema pode ser formulado como encontrar o caminho mais curto em um multigrafo $G$ com vértices $V$, arestas $A$ e pesos $C: A \\rightarrow \\mathbb{R}$ sobre as aretas. Note que em um multigrafo pode haver mais de uma aresta entre dois nós, portanto $A$ é um [multiconjunto](https://pt.wikipedia.org/wiki/Multiconjunto). Note no entanto que em problemas de planejamento o espaco de estados e ações é em geral muito grande ou mesmo infinito, e o grafo subjacente é representado apenas implicitamente por meio da função de transição.\n",
    "\n",
    "## Grade de ocupação\n",
    "\n",
    "\n",
    "Vamos usar como domínio um mapa representado como **grade de ocupação**, isto é, uma matriz de 0s e 1s com 0 indicando uma célula ocupável (ou seja, que o agente pode ocupar) e 1 indicando uma célula ocupada (ou seja, que o agente _não_ pode ocupar). Vamos assumir uma 4-vizinhança: o agente pode se deslocar para a células ocupáveis acima, à direita, à esquerda e abaixo, como mostra a figura abaixo.\n",
    "\n",
    "<figure style=\"text-align: center\">\n",
    "    <img src=\"img/four-neighborhood.png\" width=\"300\">\n",
    "</figure>\n",
    "\n",
    "O ambiente será portanto representado como um grafo planar no qual os nós representam células e as aretas representam ações de locomoção. Vamos gerar um mundo aleatório assumindo que cada célula é ocupada independentemente com uma dada probabilidade. Vamos assumir que o agente inicia sempre na célula central em $(\\lfloor largura/2 \\rfloor, \\lfloor altura/2 \\rfloor)$, e que portanto é sempre desocupada. Os custos de todas as ações serão unitários.\n",
    "\n",
    "O problema de planejamento de rota nesse mundo é encontrar um caminho do nó incial a um nó meta desejado com o menor comprimento."
   ]
  },
  {
   "cell_type": "code",
   "execution_count": 1,
   "id": "3c8ade45-31d9-4391-b8dd-5a1adcfbc517",
   "metadata": {},
   "outputs": [],
   "source": [
    "# Importe as bibliotecas necessárias\n",
    "\n",
    "%matplotlib inline\n",
    "import matplotlib.pyplot as plt\n",
    "import numpy as np\n",
    "from dataclasses import dataclass\n",
    "from collections import deque\n",
    "import heapq"
   ]
  },
  {
   "cell_type": "code",
   "execution_count": 2,
   "id": "8d08ab45-14e5-4e22-956e-3cc1a070e0e0",
   "metadata": {},
   "outputs": [],
   "source": [
    "# Vamos definir uma estrutura de dados para representar um estado (uma célula)\n",
    "@dataclass(frozen = True)\n",
    "class State:\n",
    "    x: int\n",
    "    y: int"
   ]
  },
  {
   "cell_type": "code",
   "execution_count": 72,
   "id": "7363fbf4-e080-4d3f-8951-c7f65cd0aef7",
   "metadata": {},
   "outputs": [],
   "source": [
    "# A classe abaixo representa o problema de planejamento no mundo de grade de ocupação\n",
    "class World:\n",
    "    width: int\n",
    "    height: int\n",
    "    density: float\n",
    "    grid: np.ndarray\n",
    "    initial_state: State\n",
    "    \n",
    "    def __init__(self, width: int, height: int, density: float, message=True):\n",
    "        self.grid = np.random.rand(height, width) < density\n",
    "        self.width = width\n",
    "        self.height = height\n",
    "        self.initial_state = State(width//2, height//2)\n",
    "        self.grid[height//2,width//2] = False\n",
    "        if message:\n",
    "            print(\"World has\", self.grid.size-self.grid.sum(), \"occupable cells.\")\n",
    "        \n",
    "    def actions(self, state: State):\n",
    "        ''' Returns applicable actions at given `state`. '''\n",
    "        valid_actions = []\n",
    "        if state.x > 0 and not self.grid[state.y,state.x-1]:\n",
    "            valid_actions.append(\"left\")\n",
    "        if state.x < self.width - 1 and not self.grid[state.y,state.x+1]:\n",
    "            valid_actions.append(\"right\")\n",
    "        if state.y > 0 and not self.grid[state.y-1,state.x]:\n",
    "            valid_actions.append(\"up\")\n",
    "        if state.y < self.height - 1 and not self.grid[state.y+1,state.x]:\n",
    "            valid_actions.append(\"down\")\n",
    "        return valid_actions\n",
    "    \n",
    "    def next_state(self, state: State, action: str):\n",
    "        ''' Returns the successor state when applying the given `action` in given `state`. \n",
    "            Assumes `action` is applicable at `state`. '''\n",
    "        if action == \"left\":\n",
    "            return State(state.x-1, state.y)\n",
    "        elif action == \"right\":\n",
    "            return State(state.x+1, state.y)\n",
    "        elif action == \"up\":\n",
    "            return State(state.x, state.y-1)\n",
    "        elif action == \"down\":\n",
    "            return State(state.x, state.y+1)\n",
    "        \n",
    "    def cost(self, state: State, action: str):\n",
    "        ''' Returns cost of taking `action` in given `state`. '''\n",
    "        return 1.0\n",
    "        \n",
    "    def show(self, plan=None):\n",
    "        ''' Shows world and initial state. If plan is given, also displays trajectory. '''\n",
    "        M = 1-self.grid.astype(np.float32)\n",
    "        M[self.initial_state.y,self.initial_state.x] = 0.5\n",
    "        if plan is not None:\n",
    "            for state in plan:\n",
    "                M[state.y,state.x] = 0.5\n",
    "        plt.imshow(M, cmap='gray');"
   ]
  },
  {
   "cell_type": "code",
   "execution_count": 49,
   "id": "02c89b67-e286-4445-be13-cc54b563e614",
   "metadata": {},
   "outputs": [
    {
     "name": "stdout",
     "output_type": "stream",
     "text": [
      "World has 610 occupable cells.\n"
     ]
    }
   ],
   "source": [
    "# Criamos um mundo aleatório com as dimensões dadas (largura, altura, densidade de ocupação)\n",
    "world = World(40,20,0.25) # quanto maior a densidade, menor a probabilidade de solução (caminho de início à meta)"
   ]
  },
  {
   "cell_type": "code",
   "execution_count": 50,
   "id": "43672a6a-5859-40b8-b5d6-c3ef332d559f",
   "metadata": {},
   "outputs": [
    {
     "data": {
      "image/png": "[encoded data removed]",
      "text/plain": [
       "<Figure size 432x288 with 1 Axes>"
      ]
     },
     "metadata": {
      "needs_background": "light"
     },
     "output_type": "display_data"
    }
   ],
   "source": [
    "# Visualizamos o mundo obtido -- células pretas são ocupadas, brancas são livres, cinza marca posição inicial\n",
    "world.show()"
   ]
  },
  {
   "cell_type": "code",
   "execution_count": 51,
   "id": "25b29946-30dc-4ebf-8e98-c7c0f4116b8e",
   "metadata": {},
   "outputs": [
    {
     "data": {
      "text/plain": [
       "State(x=20, y=10)"
      ]
     },
     "execution_count": 51,
     "metadata": {},
     "output_type": "execute_result"
    }
   ],
   "source": [
    "# Estado inicial\n",
    "world.initial_state"
   ]
  },
  {
   "cell_type": "code",
   "execution_count": 52,
   "id": "15f3cd79-b0a7-4afb-a5e3-9410494fd735",
   "metadata": {},
   "outputs": [
    {
     "data": {
      "text/plain": [
       "['left', 'right', 'up', 'down']"
      ]
     },
     "execution_count": 52,
     "metadata": {},
     "output_type": "execute_result"
    }
   ],
   "source": [
    "# Ações aplicáveis no estado inicial\n",
    "world.actions(world.initial_state)"
   ]
  },
  {
   "cell_type": "code",
   "execution_count": 53,
   "id": "38ca4fe9-2973-4794-b6d9-7f6b5f5376fa",
   "metadata": {},
   "outputs": [
    {
     "data": {
      "text/plain": [
       "['right', 'down']"
      ]
     },
     "execution_count": 53,
     "metadata": {},
     "output_type": "execute_result"
    }
   ],
   "source": [
    "# Ações aplicáveis no estado (x=0, y=0)\n",
    "world.actions(State(0,0))"
   ]
  },
  {
   "cell_type": "code",
   "execution_count": 54,
   "id": "f9b104ed-0170-4831-bb57-2231a644b25b",
   "metadata": {},
   "outputs": [
    {
     "data": {
      "text/plain": [
       "State(x=21, y=10)"
      ]
     },
     "execution_count": 54,
     "metadata": {},
     "output_type": "execute_result"
    }
   ],
   "source": [
    "# Transição do estado inicial aplicando ação \"ir para a direita\"\n",
    "world.next_state(world.initial_state, \"right\")"
   ]
  },
  {
   "cell_type": "code",
   "execution_count": 55,
   "id": "3fe27fa6-a4cf-4dc9-80f1-59b4f9a8cf6d",
   "metadata": {},
   "outputs": [
    {
     "data": {
      "text/plain": [
       "1.0"
      ]
     },
     "execution_count": 55,
     "metadata": {},
     "output_type": "execute_result"
    }
   ],
   "source": [
    "# Custo da ação\n",
    "world.cost(world.initial_state, \"right\")"
   ]
  },
  {
   "cell_type": "markdown",
   "id": "58d78130-278e-4146-b9c8-7f57d5719b84",
   "metadata": {},
   "source": [
    "## Busca em profundidade\n",
    "\n",
    "A busca em profundidade consiste em explorar um caminho até que não haja mais ações aplicáveis, e então retornar ao estado anterior. Ela é implementada mantendo-se uma pilha de estados como fronteira e selectionando sempre um estado de maior altura na fronteira (distância do camimho do mais curto ao estado inicial). A busca é subótima, sem garantias na qualidade da solução encontrada. Memorizar os estados visitados torna a busca completa, evitando ciclos de visitas. Com memorização, o uso de memória é proporcional ao comprimento do caminho explorado, que é limitado superiormente pelo tamanho do maior caminho à meta. "
   ]
  },
  {
   "cell_type": "code",
   "execution_count": 13,
   "id": "9d0856bf-7345-45c9-9608-fb98851c799f",
   "metadata": {},
   "outputs": [],
   "source": [
    "# Busca em profundidade com memória\n",
    "def depth_first_search(world: World, goal_state: State):\n",
    "    if goal_state.x >= world.width or goal_state.y >= world.height or goal_state.x < 0 or goal_state.y < 0:\n",
    "        print(\"Invalid goal state\", goal_state)\n",
    "        return None, np.Inf, 0\n",
    "    frontier = [world.initial_state]       # candidate states to be visited\n",
    "    path_cost = {world.initial_state: 0.0} # path cost from initial state to each visited state\n",
    "    visited = set() # visited states - avoids cycles\n",
    "    backtrack = {}  # backtrack generator state to obtain solution (path)\n",
    "    num_visited_states = 0 # for statistics\n",
    "    while frontier:\n",
    "        state = frontier.pop()\n",
    "        visited.add(state)\n",
    "        num_visited_states += 1 # for producing statistics only\n",
    "        if state == goal_state:\n",
    "            # Found goal state, retrieve path\n",
    "            total_cost = path_cost[state]\n",
    "            plan = [] # a deterministic plan is a sequence of actions taking the agent from the initial state to the goal state\n",
    "            while state != world.initial_state:\n",
    "                plan.append(state)\n",
    "                state = backtrack[state]\n",
    "            plan.append(state)                \n",
    "            return plan, total_cost, num_visited_states\n",
    "        # Otherwise, expand frontier with non-visited neighbors\n",
    "        for action in world.actions(state):\n",
    "            next_state = world.next_state(state, action)\n",
    "            if next_state not in visited: # Avoids cycles\n",
    "                path_cost[next_state] = path_cost[state] + world.cost(state, action) # partial path cost (not really necessary here)\n",
    "                frontier.append(next_state)   # add state to frontier\n",
    "                backtrack[next_state] = state # remeber transition\n",
    "    # search failed - there is no solution\n",
    "    return None, np.Inf, num_visited_states"
   ]
  },
  {
   "cell_type": "code",
   "execution_count": 56,
   "id": "63e6aff7-cb87-4d23-afdf-de752fa02736",
   "metadata": {},
   "outputs": [
    {
     "name": "stdout",
     "output_type": "stream",
     "text": [
      "Found plan of cost 152.0 visiting 770 states.\n"
     ]
    }
   ],
   "source": [
    "# Goal state\n",
    "goal = State(0,0)\n",
    "\n",
    "# Find plan\n",
    "plan, cost, n_states = depth_first_search(world, goal)\n",
    "if plan is None:\n",
    "    print(\"Planning Failed! No possible plan exists.\")\n",
    "else:\n",
    "    print(\"Found plan of cost\", cost, \"visiting\", n_states, \"states.\")"
   ]
  },
  {
   "cell_type": "code",
   "execution_count": 57,
   "id": "b595e0fb-bd58-452f-9ea3-8512bce75aa1",
   "metadata": {},
   "outputs": [
    {
     "data": {
      "image/png": "[encoded data removed]",
      "text/plain": [
       "<Figure size 432x288 with 1 Axes>"
      ]
     },
     "metadata": {
      "needs_background": "light"
     },
     "output_type": "display_data"
    }
   ],
   "source": [
    "# Display world and plan trajectory (in gray)\n",
    "world.show(plan)"
   ]
  },
  {
   "cell_type": "markdown",
   "id": "2cb627ad-eb61-4fda-959b-fe106a72b836",
   "metadata": {},
   "source": [
    "---\n",
    "\n",
    "## 💡Sua vez\n",
    "\n",
    "Antes de prosseguir, procure se familiarizar com o algoritmo da busca em profundidade. Rode o algoritmo com mundos diferentes, obtidos alterando a densidade de células ocupadas (use valores como 0.1 e 0.5). Use metas atingíveis e inatingíveis e veja os resultados, notando o número de estados visitados. Com o mundo fixo, procure encontrar o estado meta que leva ao pior caso para a busca em número de estados visitados.\n",
    "\n",
    "---"
   ]
  },
  {
   "cell_type": "markdown",
   "id": "482abf99-a3af-466d-8fc2-5be368024c55",
   "metadata": {},
   "source": [
    "## Busca em largura\n",
    "\n",
    "A busca em largura visita todos os nós a uma certa altura antes dos estados de altura estritamente maior. Ela é implementada mantendo-se uma fila de estados como fronteira e selecionando um nó de mínima altura na fronteira. A busca é subótima, sem garantia de qualidade da solução encontrada. A busca não requer memorização de estados para ser completa, mas a memorização reduz a memória utilizada, tornando a busca mais eficiente."
   ]
  },
  {
   "cell_type": "code",
   "execution_count": 58,
   "id": "8884b5a6-7c60-48e0-a347-1f9e8e99fd36",
   "metadata": {},
   "outputs": [],
   "source": [
    "# Busca em largura com memória\n",
    "def breadth_first_search(world: World, goal_state: State):\n",
    "    if goal_state.x >= world.width or goal_state.y >= world.height or goal_state.x < 0 or goal_state.y < 0:\n",
    "        print(\"Invalid goal state\", goal_state)\n",
    "        return None, np.Inf, 0\n",
    "    frontier = deque([world.initial_state])\n",
    "    path_cost = {world.initial_state: 0.0}\n",
    "    visited = set()\n",
    "    backtrack = {}\n",
    "    num_visited_states = 0\n",
    "    while frontier:\n",
    "        state = frontier.popleft()\n",
    "        visited.add(state)\n",
    "        num_visited_states += 1\n",
    "        if state == goal_state:\n",
    "            # Found goal state, retrieve path\n",
    "            total_cost = path_cost[state]\n",
    "            plan = []\n",
    "            while state != world.initial_state:\n",
    "                plan.append(state)\n",
    "                state = backtrack[state]\n",
    "            plan.append(state)                \n",
    "            return plan, total_cost, num_visited_states\n",
    "        for action in world.actions(state):\n",
    "            next_state = world.next_state(state, action)\n",
    "            if next_state not in visited: # Avoids cycles\n",
    "                path_cost[next_state] = path_cost[state] + world.cost(state, action)\n",
    "                frontier.append(next_state)\n",
    "                backtrack[next_state] = state\n",
    "    # search failed - no solution\n",
    "    return None, np.Inf, num_visited_states"
   ]
  },
  {
   "cell_type": "code",
   "execution_count": 59,
   "id": "85dc0360-4976-4909-9d8f-cf0946fda90d",
   "metadata": {},
   "outputs": [
    {
     "name": "stdout",
     "output_type": "stream",
     "text": [
      "Found plan of cost 34.0 visiting 122332 states.\n"
     ]
    }
   ],
   "source": [
    "# Goal state\n",
    "goal = State(0,0)\n",
    "\n",
    "# Find plan\n",
    "plan, cost, n_states = breadth_first_search(world, goal)\n",
    "if plan is None:\n",
    "    print(\"Planning Failed! No possible plan exists.\")\n",
    "else:\n",
    "    print(\"Found plan of cost\", cost, \"visiting\", n_states, \"states.\")"
   ]
  },
  {
   "cell_type": "markdown",
   "id": "a7608085-d6c1-4f54-bf4c-2c83f505ff04",
   "metadata": {},
   "source": [
    "Note que como a função de custo em nosso domínio é uniforme (constante), a busca em largura encontra uma solução ótima (ou seja, de menor custo total)."
   ]
  },
  {
   "cell_type": "code",
   "execution_count": 60,
   "id": "c832c568-e95c-4e41-a2e0-179d0de2f614",
   "metadata": {},
   "outputs": [
    {
     "data": {
      "image/png": "[encoded data removed]",
      "text/plain": [
       "<Figure size 432x288 with 1 Axes>"
      ]
     },
     "metadata": {
      "needs_background": "light"
     },
     "output_type": "display_data"
    }
   ],
   "source": [
    "# Display world and plan trajectory (in gray)\n",
    "world.show(plan)"
   ]
  },
  {
   "cell_type": "markdown",
   "id": "9aa5ff3b-3186-4ca4-9acf-42f41b5fa85e",
   "metadata": {},
   "source": [
    "## Busca em largura com memorização da fronteira\n",
    "\n",
    "Podemos tornar a busca em largura mais eficiente evitando duplicar estados na fronteira. Como a busca em largura explora os estados em \"curvas de níveis\" de altura constante, os estados são adicionados à fronteira através de caminhos de mesmo comprimento. A implementação a seguir substitui a memorização de estados visitados pela memorização de estados gerados (isto é, inseridos na fronteira), aproveitando o dicionário `path_cost` já existente. "
   ]
  },
  {
   "cell_type": "code",
   "execution_count": 61,
   "id": "869ed1be-3f23-41cb-bc16-9f9e6b0e6e33",
   "metadata": {},
   "outputs": [],
   "source": [
    "# Busca em largura com memória\n",
    "def breadth_first_search2(world: World, goal_state: State):\n",
    "    if goal_state.x >= world.width or goal_state.y >= world.height or goal_state.x < 0 or goal_state.y < 0:\n",
    "        print(\"Invalid goal state\", goal_state)\n",
    "        return None, np.Inf, 0\n",
    "    frontier = deque([world.initial_state])\n",
    "    path_cost = {world.initial_state: 0.0} # computes partial costs and remebers generated states\n",
    "    backtrack = {}\n",
    "    num_visited_states = 0\n",
    "    while frontier:\n",
    "        state = frontier.popleft()\n",
    "        num_visited_states += 1\n",
    "        if state == goal_state:\n",
    "            # Found goal state, retrieve path\n",
    "            total_cost = path_cost[state]\n",
    "            plan = []\n",
    "            while state != world.initial_state:\n",
    "                plan.append(state)\n",
    "                state = backtrack[state]\n",
    "            plan.append(state)                \n",
    "            return plan, total_cost, num_visited_states\n",
    "        for action in world.actions(state):\n",
    "            next_state = world.next_state(state, action)\n",
    "            if next_state not in path_cost: # States are inserted at frontier only once - reduces memory footprint\n",
    "                path_cost[next_state] = path_cost[state] + world.cost(state, action)\n",
    "                frontier.append(next_state)\n",
    "                backtrack[next_state] = state\n",
    "    # failed search\n",
    "    return None, np.Inf, num_visited_states"
   ]
  },
  {
   "cell_type": "code",
   "execution_count": 62,
   "id": "b70ba72e-33a6-4f8f-bcaa-1652977aa616",
   "metadata": {},
   "outputs": [
    {
     "name": "stdout",
     "output_type": "stream",
     "text": [
      "Found plan of cost 34.0 visiting 601 states.\n"
     ]
    }
   ],
   "source": [
    "# Goal state\n",
    "goal = State(0,0)\n",
    "\n",
    "# Find plan\n",
    "plan, cost, n_states = breadth_first_search2(world, goal)\n",
    "if plan is None:\n",
    "    print(\"Planning Failed! No possible plan exists.\")\n",
    "else:\n",
    "    print(\"Found plan of cost\", cost, \"visiting\", n_states, \"states.\")"
   ]
  },
  {
   "cell_type": "markdown",
   "id": "e9eeef7f-7375-4d22-88e7-0c4c14b984f6",
   "metadata": {},
   "source": [
    "Note como a busca encontra uma solução ótima (para o caso de custo uniforme) com uma quantidade de estados visitados muito menor."
   ]
  },
  {
   "cell_type": "code",
   "execution_count": 63,
   "id": "42853d4d-9780-4b1b-9f7f-982eeed561be",
   "metadata": {},
   "outputs": [
    {
     "data": {
      "image/png": "[encoded data removed]",
      "text/plain": [
       "<Figure size 432x288 with 1 Axes>"
      ]
     },
     "metadata": {
      "needs_background": "light"
     },
     "output_type": "display_data"
    }
   ],
   "source": [
    "# Display world and plan trajectory (in gray)\n",
    "world.show(plan)"
   ]
  },
  {
   "cell_type": "markdown",
   "id": "80322f6d-aef2-4bbc-b46c-240c8267c793",
   "metadata": {},
   "source": [
    "---\n",
    "\n",
    "## 💡Sua vez\n",
    "\n",
    "Procure se familiarizar com o algoritmo da busca em largura. Rode o algoritmo com mundos diferentes, com metas atingíveis e inatingíveis e veja os resultados. Compare os custos e número de nós visitados entre as buscas em largura e em profundidade para um mesmo problema. \n",
    "\n",
    "---"
   ]
  },
  {
   "cell_type": "markdown",
   "id": "f0f21ab1-6c9b-44f9-b1f4-bfb25501991d",
   "metadata": {},
   "source": [
    "## Busca informanda\n",
    "\n",
    "A busca A* visita os nós seguindo uma função combinada entre o custo e uma heurística admissível, que subestima o custo restante de uma estado à meta. A busca não requer memorização de estados para ser completa ou ótima, mas, assim como na busca de custo uniforme, a memorização aumenta a eficiência."
   ]
  },
  {
   "cell_type": "code",
   "execution_count": 64,
   "id": "4c80841f-0f37-49c9-9819-4f54733c70fe",
   "metadata": {},
   "outputs": [],
   "source": [
    "# Vamos representar as transições na busca do caminho pela seguinte estrutura de dados\n",
    "@dataclass(order=True)\n",
    "class PrioritizedState:\n",
    "    priority: float\n",
    "    count: int # to break ties\n",
    "    state: State"
   ]
  },
  {
   "cell_type": "code",
   "execution_count": 65,
   "id": "b1860e8f-cccc-474f-8900-d5d1de315394",
   "metadata": {},
   "outputs": [
    {
     "data": {
      "text/plain": [
       "PrioritizedState(priority=5, count=1, state=State(x=10, y=10))"
      ]
     },
     "execution_count": 65,
     "metadata": {},
     "output_type": "execute_result"
    }
   ],
   "source": [
    "L = [5,0,10]\n",
    "#heapq.heapify(L)\n",
    "L = []\n",
    "heapq.heappush(L, PrioritizedState(5, 1, State(10,10)))\n",
    "heapq.heappush(L, PrioritizedState(5, 2, State(1,10)))\n",
    "heapq.heappush(L, PrioritizedState(10, 0, State(10,10)))\n",
    "L\n",
    "\n",
    "heapq.heappop(L)"
   ]
  },
  {
   "cell_type": "markdown",
   "id": "9f7e2daf-a218-4ca9-bb4f-5db457091e32",
   "metadata": {},
   "source": [
    "### Heurística\n",
    "\n",
    "Precisamos informar uma heurística $h(s)$ obedecendo as seguintes propriedades:\n",
    "- $h(s) \\geq 0$\n",
    "- $h(m) = 0$ para o estado meta $m$\n",
    "- $h(s) \\leq C(s,m)$, com $C(s,m)$ indicando o menor custo do caminho de $s$ a $m$"
   ]
  },
  {
   "cell_type": "code",
   "execution_count": 66,
   "id": "b21df659-e50e-4a88-9f4e-549e568a2bb5",
   "metadata": {},
   "outputs": [],
   "source": [
    "def heuristic(state: State, goal_state: State):\n",
    "    ''' Computes Manhattan distance from state to goal_state). '''\n",
    "    return abs(state.x-goal_state.x) + abs(state.y-goal_state.y)"
   ]
  },
  {
   "cell_type": "code",
   "execution_count": 67,
   "id": "3be6e2d2-3c5b-4198-b4af-f2342189e484",
   "metadata": {},
   "outputs": [
    {
     "data": {
      "text/plain": [
       "30"
      ]
     },
     "execution_count": 67,
     "metadata": {},
     "output_type": "execute_result"
    }
   ],
   "source": [
    "# Qual a heurística para o estado inicial -- compare com solução ótima encontrada pela busca em largura (deve ser menor)\n",
    "heuristic(world.initial_state, goal)"
   ]
  },
  {
   "cell_type": "code",
   "execution_count": 68,
   "id": "5dc0a483-6d97-40dd-b1dd-ae4397fbc2d9",
   "metadata": {},
   "outputs": [],
   "source": [
    "# Busca A* com memórização de fronteira\n",
    "def a_star_search(world: World, goal_state: State):\n",
    "    if goal_state.x >= world.width or goal_state.y >= world.height or goal_state.x < 0 or goal_state.y < 0:\n",
    "        print(\"Invalid goal state\", goal_state)\n",
    "        return None, np.Inf, 0\n",
    "    frontier = [PrioritizedState(heuristic(world.initial_state, goal_state), 0, world.initial_state)]\n",
    "    path_cost = {world.initial_state: 0.0}\n",
    "    backtrack = {}\n",
    "    num_visited_states = 0\n",
    "    counter = 0\n",
    "    while frontier:\n",
    "        pstate = heapq.heappop(frontier) # remove state with least priority f(n) = cost(n) + heuristic(n)\n",
    "        state = pstate.state\n",
    "        num_visited_states += 1\n",
    "        if state == goal_state:\n",
    "            # Found goal state, retrieve path\n",
    "            total_cost = path_cost[state]\n",
    "            plan = []\n",
    "            while state != world.initial_state:\n",
    "                plan.append(state)\n",
    "                state = backtrack[state]\n",
    "            plan.append(state)                \n",
    "            return plan, total_cost, num_visited_states\n",
    "        for action in world.actions(state):\n",
    "            next_state = world.next_state(state, action)\n",
    "            cost = path_cost[state] + world.cost(state, action)            \n",
    "            if (next_state not in path_cost) or (cost < path_cost[next_state]): # Avoids suboptimal paths\n",
    "                path_cost[next_state] = cost\n",
    "                f = cost + heuristic(next_state, goal_state)\n",
    "                counter += 1 # to break ties among states of equal priority\n",
    "                heapq.heappush(frontier, PrioritizedState(f, counter, next_state) )\n",
    "                backtrack[next_state] = state\n",
    "    return None, np.Inf, num_visited_states"
   ]
  },
  {
   "cell_type": "code",
   "execution_count": 69,
   "id": "2b35725f-e58d-4ab9-9f3b-a28750cc2427",
   "metadata": {},
   "outputs": [
    {
     "name": "stdout",
     "output_type": "stream",
     "text": [
      "Found plan of cost 34.0 visiting 163 states.\n"
     ]
    }
   ],
   "source": [
    "# Goal state\n",
    "goal = State(0,0)\n",
    "\n",
    "# Find plan\n",
    "plan, cost, n_states = a_star_search(world, goal)\n",
    "if plan is None:\n",
    "    print(\"Planning Failed! No possible plan exists.\")\n",
    "else:\n",
    "    print(\"Found plan of cost\", cost, \"visiting\", n_states, \"states.\")"
   ]
  },
  {
   "cell_type": "code",
   "execution_count": 70,
   "id": "5a6b92ab-2249-43e9-bb33-44b8eec4bd1f",
   "metadata": {},
   "outputs": [
    {
     "data": {
      "image/png": "[encoded data removed]",
      "text/plain": [
       "<Figure size 432x288 with 1 Axes>"
      ]
     },
     "metadata": {
      "needs_background": "light"
     },
     "output_type": "display_data"
    }
   ],
   "source": [
    "# Display world and plan trajectory (in gray)\n",
    "world.show(plan)"
   ]
  },
  {
   "cell_type": "markdown",
   "id": "26010023-d8ff-4f21-9406-722d62e35224",
   "metadata": {},
   "source": [
    "## Comparação\n",
    "\n",
    "Vamos comparar as buscas com relação à qualidade da solução encontrada (custo) e a eficiência (número de estados visitados)."
   ]
  },
  {
   "cell_type": "code",
   "execution_count": 74,
   "id": "df566f4b-352f-4c7f-82c9-06c6ce489d64",
   "metadata": {},
   "outputs": [
    {
     "name": "stdout",
     "output_type": "stream",
     "text": [
      "A-star\n",
      "  - Average Cost: 30.25 \n",
      "  - Average Num. Iterations: 113.84\n",
      "BFS\n",
      "  - Average Cost: 30.25 \n",
      "  - Average Num. Iterations: 446.19\n",
      "DFS\n",
      "  - Average Cost: 184.82 \n",
      "  - Average Num. Iterations: 533.02\n"
     ]
    }
   ],
   "source": [
    "avg_cost_A = 0.0\n",
    "avg_cost_D = 0.0\n",
    "avg_it_A = 0\n",
    "avg_it_B = 0\n",
    "avg_it_D = 0\n",
    "\n",
    "N = 0\n",
    "for i in range(100):\n",
    "    myworld = World(50,10,0.1,False);\n",
    "    mygoal = None\n",
    "    for x in range(50):\n",
    "        for y in range(10):\n",
    "            if not myworld.grid[y,x]:\n",
    "                mygoal = State(x,y)\n",
    "                break\n",
    "        if mygoal is not None:\n",
    "            break\n",
    "    plan_A, cost_A, n_states_A = a_star_search(myworld, mygoal)\n",
    "    plan_B, cost_B, n_states_B = breadth_first_search2(myworld, mygoal)\n",
    "    plan_D, cost_D, n_states_D = depth_first_search(myworld, mygoal)\n",
    "    \n",
    "    if cost_A != cost_B: # This should never be true!\n",
    "        print(\"Oh, Oh! Something went wrong...\")\n",
    "        print(f\"A-star: {cost_A}  {n_states_A}\")\n",
    "        print(f\"BFS: {cost_B}  {n_states_B}\")    \n",
    "        break\n",
    "        \n",
    "    if cost_A < np.inf: # Discard unsolvable problems\n",
    "        N += 1\n",
    "        avg_cost_A += cost_A\n",
    "        avg_cost_D += cost_D\n",
    "        avg_it_A += n_states_A\n",
    "        avg_it_B += n_states_B\n",
    "        avg_it_D += n_states_D\n",
    "\n",
    "print(\"A-star\\n  - Average Cost:\", f\"{avg_cost_A/N:.2f}\", \"\\n  - Average Num. Iterations:\", f\"{avg_it_A/N:.2f}\")\n",
    "print(\"BFS\\n  - Average Cost:\", f\"{avg_cost_A/N:.2f}\", \"\\n  - Average Num. Iterations:\", f\"{avg_it_B/N:.2f}\")\n",
    "print(\"DFS\\n  - Average Cost:\", f\"{avg_cost_D/N:.2f}\", \"\\n  - Average Num. Iterations:\", f\"{avg_it_D/N:.2f}\")\n",
    "\n"
   ]
  },
  {
   "cell_type": "markdown",
   "id": "71f9342c-dfb9-4bd7-a3cf-09610fc3f7d6",
   "metadata": {},
   "source": [
    "---\n",
    "\n",
    "## 💡Sua vez\n",
    "\n",
    "Desenhe um mundo (a matriz da grade de ocupação) que maximize o desempenho da busca A* em comparação com as outras buscas. Reflita sobre as razões das ineficiências da busca não informada para pensar em uma grade de ocupação favorável para o A*. Depois, inverta o pensamento e desenhe uma matriz na qual A* desempenha de maneira similar à busca em largura e potencialmente pior que a busca em profundidade. Você espera encontrar situações assim em problemas de planejamento de rotas?\n",
    "\n",
    "---"
   ]
  },
  {
   "cell_type": "code",
   "execution_count": null,
   "id": "0c762427-4b1a-441d-b3af-d78d19a65082",
   "metadata": {},
   "outputs": [],
   "source": []
  }
 ],
 "metadata": {
  "kernelspec": {
   "display_name": "Python 3",
   "language": "python",
   "name": "python3"
  },
  "language_info": {
   "codemirror_mode": {
    "name": "ipython",
    "version": 3
   },
   "file_extension": ".py",
   "mimetype": "text/x-python",
   "name": "python",
   "nbconvert_exporter": "python",
   "pygments_lexer": "ipython3",
   "version": "3.9.7"
  }
 },
 "nbformat": 4,
 "nbformat_minor": 5
}
